{
 "cells": [
  {
   "cell_type": "code",
   "execution_count": 1,
   "id": "d4e6aa44-82a7-41e9-bfad-aca9c9ebd25b",
   "metadata": {},
   "outputs": [],
   "source": [
    "# Q. No.1 "
   ]
  },
  {
   "cell_type": "code",
   "execution_count": 7,
   "id": "8d50079a-1f99-4bec-9986-878a1f6b7b04",
   "metadata": {},
   "outputs": [
    {
     "name": "stdout",
     "output_type": "stream",
     "text": [
      "5.0\n"
     ]
    }
   ],
   "source": [
    "X=8\n",
    "Y=10\n",
    "output=X//3*3/2+Y%2**2\n",
    "print(output)\n"
   ]
  },
  {
   "cell_type": "code",
   "execution_count": 9,
   "id": "5f2e9f2e-4532-458f-a151-3d4adf61e1cc",
   "metadata": {},
   "outputs": [
    {
     "ename": "SyntaxError",
     "evalue": "invalid character '‘' (U+2018) (625418795.py, line 3)",
     "output_type": "error",
     "traceback": [
      "\u001b[1;36m  Cell \u001b[1;32mIn[9], line 3\u001b[1;36m\u001b[0m\n\u001b[1;33m    start=input(‘How old were you at the time of joining?’)\u001b[0m\n\u001b[1;37m                ^\u001b[0m\n\u001b[1;31mSyntaxError\u001b[0m\u001b[1;31m:\u001b[0m invalid character '‘' (U+2018)\n"
     ]
    }
   ],
   "source": [
    "#Q.No. 2\n",
    "Consider the code:\n",
    "start=input(‘How old were you at the time of joining?’)\n",
    "end=input(‘’How old are you today?’)\n",
    "which of the following code is valid to print Congratulations message?"
   ]
  },
  {
   "cell_type": "code",
   "execution_count": 23,
   "id": "3f910c73-2b31-46bb-a43e-caca4bc31f3c",
   "metadata": {},
   "outputs": [
    {
     "name": "stdin",
     "output_type": "stream",
     "text": [
      "How old were you at the time of joining? 26\n",
      "How old are you today? 35\n"
     ]
    },
    {
     "name": "stdout",
     "output_type": "stream",
     "text": [
      "Congratulations on 9 Years of Service!\n"
     ]
    }
   ],
   "source": [
    "start=input('How old were you at the time of joining?')\n",
    "end=input('How old are you today?')\n",
    "print('Congratulations on '+ str(int(end)-int(start))+' Years of Service!')"
   ]
  },
  {
   "cell_type": "code",
   "execution_count": null,
   "id": "2fa2e52f-5393-4045-b8d3-d27c2a491dcf",
   "metadata": {},
   "outputs": [],
   "source": [
    "#Q. No. 3\n",
    "Consider the code:\n",
    "x=’ACROTE’\n",
    "y=’APPLE’\n",
    "z=’TOMATO’\n",
    "Which of the following won’t print ‘CAT’ to the console"
   ]
  },
  {
   "cell_type": "code",
   "execution_count": 37,
   "id": "a66f4880-c6be-4da8-bd26-df819764058f",
   "metadata": {},
   "outputs": [
    {
     "name": "stdout",
     "output_type": "stream",
     "text": [
      "CAT\n"
     ]
    }
   ],
   "source": [
    "x='ACROTE'\n",
    "y='APPLE'\n",
    "z='TOMAT'\n",
    "print(x[1]+y[0]+z[0])"
   ]
  },
  {
   "cell_type": "code",
   "execution_count": 39,
   "id": "ec7c596f-1951-42d4-b43f-dd5e8ac768aa",
   "metadata": {},
   "outputs": [
    {
     "name": "stdout",
     "output_type": "stream",
     "text": [
      "RPO\n"
     ]
    }
   ],
   "source": [
    "x='ACROTE'\n",
    "y='APPLE'\n",
    "z='TOMAT'\n",
    "print(x[2]+y[1]+z[1])"
   ]
  },
  {
   "cell_type": "code",
   "execution_count": null,
   "id": "2acfb8c2-8b3c-4dc8-87c4-52741d74d7fe",
   "metadata": {},
   "outputs": [],
   "source": [
    "#Q. No. 4\n",
    "Consider which of the following code\n",
    "x=’Serge’\n",
    "y=’Serge’\n",
    "result=condtion\n",
    "print(result)\n",
    "for which of the following condition True will be printed to the console?\n"
   ]
  },
  {
   "cell_type": "code",
   "execution_count": 47,
   "id": "e03334bf-b30f-42c1-98ea-90508aa7aa8d",
   "metadata": {},
   "outputs": [
    {
     "name": "stdout",
     "output_type": "stream",
     "text": [
      "True\n"
     ]
    }
   ],
   "source": [
    "x='Serge'\n",
    "y='Serge'\n",
    "result=x is y\n",
    "print(result)"
   ]
  },
  {
   "cell_type": "code",
   "execution_count": null,
   "id": "14b1bd00-f05c-4f98-9b14-20b50d821b36",
   "metadata": {},
   "outputs": [],
   "source": [
    "# Q. No. 5\n",
    "Consider the following code segments:\n",
    "#Code Segment-1\n",
    "a1=’10’\n",
    "b1=3\n",
    "c1=a1*b1\n",
    "#Code Segment-2\n",
    "a2=10\n",
    "b2=3\n",
    "c2=a2/b2\n",
    "#Code Segment-3\n",
    "\n",
    "After executing Code Segments 1,2 and 3 the result types of c1,c2 and c3 are:\n",
    "answer:c1 is of str type,c2 is of float type,c3 is of float type \n"
   ]
  },
  {
   "cell_type": "code",
   "execution_count": 71,
   "id": "631f1e4c-251a-4346-af10-f8c6a863ffe3",
   "metadata": {},
   "outputs": [],
   "source": [
    "a1='10'\n",
    "b1=3\n",
    "c1=a1*b1\n",
    "a2=10\n",
    "b2=3\n",
    "c2=a2/b2\n",
    "a3=2.6\n",
    "b3=1\n",
    "c3=a3/b3"
   ]
  },
  {
   "cell_type": "code",
   "execution_count": 63,
   "id": "34d2d25b-f25f-4ded-a576-8d47e0c5b898",
   "metadata": {},
   "outputs": [
    {
     "data": {
      "text/plain": [
       "str"
      ]
     },
     "execution_count": 63,
     "metadata": {},
     "output_type": "execute_result"
    }
   ],
   "source": [
    "type(c1)"
   ]
  },
  {
   "cell_type": "code",
   "execution_count": 65,
   "id": "94427803-081b-48cc-8f71-da8a7e400607",
   "metadata": {},
   "outputs": [
    {
     "data": {
      "text/plain": [
       "float"
      ]
     },
     "execution_count": 65,
     "metadata": {},
     "output_type": "execute_result"
    }
   ],
   "source": [
    "type(c2)"
   ]
  },
  {
   "cell_type": "code",
   "execution_count": 69,
   "id": "90b7c6cf-e244-41e8-9298-d92d58822648",
   "metadata": {},
   "outputs": [
    {
     "data": {
      "text/plain": [
       "float"
      ]
     },
     "execution_count": 69,
     "metadata": {},
     "output_type": "execute_result"
    }
   ],
   "source": [
    "type(c3)"
   ]
  },
  {
   "cell_type": "code",
   "execution_count": null,
   "id": "aa636eb5-fd3d-4f35-98a3-391cdfd777a0",
   "metadata": {},
   "outputs": [],
   "source": [
    "#Q. No. 6\n",
    "Consider the following lists:\n",
    "n1=[10,20,30,40,50]\n",
    "n2=[10,20,30,40,50]\n",
    "print(n1 is n2)\n",
    "print(n1==n2)\n",
    "what is the output?"
   ]
  },
  {
   "cell_type": "code",
   "execution_count": 75,
   "id": "450492dc-480d-4d3d-be4c-3a13d56caa50",
   "metadata": {},
   "outputs": [
    {
     "name": "stdout",
     "output_type": "stream",
     "text": [
      "False\n",
      "True\n"
     ]
    }
   ],
   "source": [
    "n1=[10,20,30,40,50]\n",
    "n2=[10,20,30,40,50]\n",
    "print(n1 is n2)\n",
    "print(n1==n2)"
   ]
  },
  {
   "cell_type": "code",
   "execution_count": null,
   "id": "a681adc5-a871-4cdf-94c3-c59938a2a7a3",
   "metadata": {},
   "outputs": [],
   "source": [
    "#Q. No. 7\n",
    "Consider the python code\n",
    "a=1\n",
    "b=3\n",
    "c=5\n",
    "d=7\n",
    "In which of the following cases the result value is 0?"
   ]
  },
  {
   "cell_type": "code",
   "execution_count": 81,
   "id": "f4092d4c-da56-4285-b67f-dc4aede5acf8",
   "metadata": {},
   "outputs": [
    {
     "name": "stdout",
     "output_type": "stream",
     "text": [
      "0\n"
     ]
    }
   ],
   "source": [
    "a=1\n",
    "b=3\n",
    "c=5\n",
    "d=7\n",
    "result=a**d-1\n",
    "print(result)"
   ]
  },
  {
   "cell_type": "code",
   "execution_count": null,
   "id": "ab51de6e-cb31-4f36-afc8-fff64f64901d",
   "metadata": {},
   "outputs": [],
   "source": [
    "#Q. No. 8\n",
    "Consider the code\n",
    "s='AB CD'\n",
    "list=list(s)\n",
    "list.append(‘EF’)\n",
    "print(list)\n",
    "What is the result?\n",
    "ans:[‘A’,’B’,’ ’,’C’,’D’,’EF’]"
   ]
  },
  {
   "cell_type": "code",
   "execution_count": null,
   "id": "cbb690e4-618e-46c6-b012-3193e6c9b726",
   "metadata": {},
   "outputs": [],
   "source": [
    "##Q. No. 9\n",
    "Consider the Python code:\n",
    "a=5\n",
    "b=10\n",
    "c=2\n",
    "d=True\n",
    "\n",
    "x=a+b*c\n",
    "y=a+b/d\n",
    "\n",
    "if(condition):\n",
    "\tprint(‘Valid’)\n",
    "else:\n",
    "\tprint(‘Invalid’)\n",
    "To print ‘Valid’ to the console, which condition we have to take for if statement?\n"
   ]
  },
  {
   "cell_type": "code",
   "execution_count": 47,
   "id": "1b11a9c2-a1ad-4cff-b768-9790225e0f12",
   "metadata": {},
   "outputs": [
    {
     "name": "stdout",
     "output_type": "stream",
     "text": [
      "Valid 25 15.0\n"
     ]
    }
   ],
   "source": [
    "a=5\n",
    "b=10\n",
    "c=2\n",
    "d=True\n",
    "x=a+b*c\n",
    "y=a+b/d\n",
    "if(x>y):\n",
    "    print('Valid',x,y)\n",
    "else:\n",
    "    print('Invalid')"
   ]
  },
  {
   "cell_type": "code",
   "execution_count": null,
   "id": "021e47a5-ae43-441d-900e-3da3441b2143",
   "metadata": {},
   "outputs": [],
   "source": [
    "##Q. No. 10\n",
    "You are writing a Python program to read two int values from the keyboard and print the sum.\n",
    "\tx=input(‘Enter First Number:’)\n",
    "\ty=input(‘Enter Second Number:’)\n",
    "\t#Line1\n",
    "which of the following code we have to write at Line-1 to print sum of given numbers.\n"
   ]
  },
  {
   "cell_type": "code",
   "execution_count": 63,
   "id": "849b9d84-e9d1-4dc4-8556-8664f7ce1ec3",
   "metadata": {},
   "outputs": [
    {
     "name": "stdin",
     "output_type": "stream",
     "text": [
      "Enter First Number: 33\n",
      "Enter Sencond Number: 33\n"
     ]
    },
    {
     "name": "stdout",
     "output_type": "stream",
     "text": [
      "66\n",
      "The Result:66\n"
     ]
    }
   ],
   "source": [
    "x=input(\"Enter First Number:\")\n",
    "y=input(\"Enter Sencond Number:\")\n",
    "result=int(x)+int(y)\n",
    "print(result)\n",
    "print('The Result:'+str(int(x)+int(y)))"
   ]
  },
  {
   "cell_type": "code",
   "execution_count": 67,
   "id": "076020c5-7dcc-4d4e-aa62-f316cf08a2a8",
   "metadata": {},
   "outputs": [
    {
     "ename": "IndentationError",
     "evalue": "unexpected indent (1428962655.py, line 3)",
     "output_type": "error",
     "traceback": [
      "\u001b[1;36m  Cell \u001b[1;32mIn[67], line 3\u001b[1;36m\u001b[0m\n\u001b[1;33m    f=open(‘abc.txt’)\u001b[0m\n\u001b[1;37m    ^\u001b[0m\n\u001b[1;31mIndentationError\u001b[0m\u001b[1;31m:\u001b[0m unexpected indent\n"
     ]
    }
   ],
   "source": [
    "##Q. No. 11 Consider the code\n",
    "\tf=open(‘abc.txt’)\n",
    "\tf.readall()\n",
    "Which exception will be raised?\n"
   ]
  },
  {
   "cell_type": "code",
   "execution_count": 71,
   "id": "65d792e0-cdec-488e-ad40-1cdb55322776",
   "metadata": {},
   "outputs": [
    {
     "ename": "AttributeError",
     "evalue": "'_io.TextIOWrapper' object has no attribute 'readall'",
     "output_type": "error",
     "traceback": [
      "\u001b[1;31m---------------------------------------------------------------------------\u001b[0m",
      "\u001b[1;31mAttributeError\u001b[0m                            Traceback (most recent call last)",
      "Cell \u001b[1;32mIn[71], line 2\u001b[0m\n\u001b[0;32m      1\u001b[0m f\u001b[38;5;241m=\u001b[39m\u001b[38;5;28mopen\u001b[39m(\u001b[38;5;124m'\u001b[39m\u001b[38;5;124mb104.txt\u001b[39m\u001b[38;5;124m'\u001b[39m)\n\u001b[1;32m----> 2\u001b[0m f\u001b[38;5;241m.\u001b[39mreadall()\n",
      "\u001b[1;31mAttributeError\u001b[0m: '_io.TextIOWrapper' object has no attribute 'readall'"
     ]
    }
   ],
   "source": [
    "f=open('b104.txt')\n",
    "f.readall()"
   ]
  },
  {
   "cell_type": "code",
   "execution_count": null,
   "id": "47ce9d5c-800c-4cae-a140-7994c2dfd7b7",
   "metadata": {},
   "outputs": [],
   "source": [
    "#We are creating a function that reads a data file and prints each line of that file.\n",
    "Consider the following code:\n",
    "\tImport os\n",
    "\tdef read_file(file):\n",
    "\t\tline=None\n",
    "\t\tif os.path.isfile(file):\n",
    "\t\t\tdata=open(file, ‘r’)\n",
    "\t\twhile line != ‘ ’:\n",
    "\t\t\tline=data.readline()\n",
    "\t\t\tprint(line)\n",
    "\n",
    "The code attempts to read the file even if the file does not exist.\n",
    "You need to correct the code. Which lines having indentation problems?"
   ]
  },
  {
   "cell_type": "code",
   "execution_count": 127,
   "id": "1a74880a-61e2-46a3-8103-a2265a7cc905",
   "metadata": {},
   "outputs": [],
   "source": [
    "import os\n",
    "def read_file(b104):\n",
    "    line=None\n",
    "    if os.path.isfile(\"b104.txt\"):\n",
    "    \tdata=open(\"b104.txt\",\"r\")\n",
    "    while line!= \" \":\n",
    "        line=data.readline()\n",
    "        print(line)\n",
    "###NOT Abole to find Answer..."
   ]
  },
  {
   "cell_type": "code",
   "execution_count": null,
   "id": "ff17b15d-2927-48b7-9332-762fb4f4994a",
   "metadata": {},
   "outputs": [],
   "source": [
    "#Q. No. 13\n",
    "Which of the following are True?\n",
    "1.A try block can have any number of except blocks\n",
    "2.try block should be associate with atmost one finally block\n",
    "3.try block should be associated with atmost one else block\n",
    "4.All the above \n",
    "Answer : All are correct.\n"
   ]
  },
  {
   "cell_type": "code",
   "execution_count": null,
   "id": "efe95e35-9539-468d-aa59-a1a7ad5ba590",
   "metadata": {},
   "outputs": [],
   "source": [
    "# Q. No.14 The base class for all exceptions in python is :\n",
    "1) BaseException\n",
    "2) Exception\n",
    "3) ReferenceError\n",
    "4)RuntimeError\n",
    "5)SyntaxError\n",
    "6)SystemError\n",
    "7)TypeError\n",
    "8)ValueError"
   ]
  },
  {
   "cell_type": "code",
   "execution_count": null,
   "id": "9117d8f8-538c-4ab8-95d1-3485f70d5778",
   "metadata": {},
   "outputs": [],
   "source": [
    "Q. No.15\n",
    "Which of the following is True about else block?\n",
    "else block will be executed if there is no exception in try block\n",
    "Without writing except block we cannot write else block\n",
    "For the same try we can write atmost one else block\n",
    "All the above\n",
    "Answer : All are correct"
   ]
  },
  {
   "cell_type": "code",
   "execution_count": null,
   "id": "a7a92d37-4262-4c89-bcaf-4bd80b6fc218",
   "metadata": {},
   "outputs": [],
   "source": [
    "#Q. No.16\n",
    "Consider the code:\n",
    "\ttry:\n",
    "\t\tprint(‘try’)\n",
    "\texcept:\n",
    "\t\tprint(‘except’)\n",
    "\telse: \n",
    "\t\tprint(‘else’)\n",
    "\tfinally:\n",
    "\t\tprint(‘finally’)\n",
    "What is the result?"
   ]
  },
  {
   "cell_type": "code",
   "execution_count": 134,
   "id": "3bfbb919-8977-4642-a58d-1306fc73d4b6",
   "metadata": {},
   "outputs": [
    {
     "name": "stdout",
     "output_type": "stream",
     "text": [
      "try\n",
      "else\n",
      "finally\n"
     ]
    }
   ],
   "source": [
    "try:\n",
    "    print(\"try\")\n",
    "except:\n",
    "    print(\"except\")\n",
    "else: \n",
    "    print(\"else\")\n",
    "finally:\n",
    "    print(\"finally\")"
   ]
  },
  {
   "cell_type": "code",
   "execution_count": null,
   "id": "17cdd755-f18e-48c6-8e85-cac24812849f",
   "metadata": {},
   "outputs": [],
   "source": [
    "Q. No.17\n",
    "Consider the code\n",
    "\ttry: \n",
    "\t\tprint(‘try’)\n",
    "\t\tprint(10/0)\n",
    "\texcept:\n",
    "\tprint(‘except’)\n",
    "else:\n",
    "\t\tprint(‘else’)\n",
    "\tfinally:\n",
    "\t\tprint(‘finally’)"
   ]
  },
  {
   "cell_type": "code",
   "execution_count": 136,
   "id": "ae72afc6-7dbc-445a-bab1-f9a1e373125e",
   "metadata": {},
   "outputs": [
    {
     "name": "stdout",
     "output_type": "stream",
     "text": [
      "try\n",
      "except\n",
      "finally\n"
     ]
    }
   ],
   "source": [
    "try:\n",
    "    print('try')\n",
    "    print(10/0)\n",
    "except:\n",
    "    print('except')\n",
    "else:\n",
    "    print('else')\n",
    "finally:\n",
    "    print('finally')"
   ]
  },
  {
   "cell_type": "code",
   "execution_count": null,
   "id": "60432a58-2c1b-44fb-bee0-69d141291e58",
   "metadata": {},
   "outputs": [],
   "source": [
    "##Q. No.18\n",
    "Consider the code:\n",
    "\ttry: \n",
    "\t\tPrint(‘try’)\n",
    "\t\tPrint(10/0)\n",
    "\telse:\n",
    "\t\tPrint(‘else’)\n",
    "\texcept:\n",
    "\t\tprint(‘except’)\n",
    "\tfinally:\n",
    "\t\tprint(‘finally’)\n",
    "\n",
    "What is Result?\n",
    "Ans:Invalid Sysntax"
   ]
  },
  {
   "cell_type": "code",
   "execution_count": 140,
   "id": "5cd599b4-f28f-4b1d-9af9-e8728659b4c2",
   "metadata": {},
   "outputs": [
    {
     "ename": "SyntaxError",
     "evalue": "expected 'except' or 'finally' block (1493125485.py, line 4)",
     "output_type": "error",
     "traceback": [
      "\u001b[1;36m  Cell \u001b[1;32mIn[140], line 4\u001b[1;36m\u001b[0m\n\u001b[1;33m    else:\u001b[0m\n\u001b[1;37m    ^\u001b[0m\n\u001b[1;31mSyntaxError\u001b[0m\u001b[1;31m:\u001b[0m expected 'except' or 'finally' block\n"
     ]
    }
   ],
   "source": [
    "try: \n",
    "    Print('try')\n",
    "    Print(10/0)\n",
    "else:\n",
    "    Print('else')\n",
    "except:\n",
    "    print('except')\n",
    "finally:\n",
    "    print('finally')\n"
   ]
  },
  {
   "cell_type": "code",
   "execution_count": null,
   "id": "6ea1de59-3bf1-46ae-a97f-794ac37f5c40",
   "metadata": {},
   "outputs": [],
   "source": [
    "##Q. No.19\n",
    "Consider the code:\n",
    "\tf=open(‘abc.txt’)\n",
    "\tprint(f.read())\n",
    "\tf.close()\n",
    "We required to add exception handling code to handle FileNotFoundError.\n",
    "We of the following is appropriate code for this requirement?"
   ]
  },
  {
   "cell_type": "code",
   "execution_count": 154,
   "id": "57c4134a-cda1-4030-94ef-30b6d1596897",
   "metadata": {},
   "outputs": [
    {
     "name": "stdout",
     "output_type": "stream",
     "text": [
      "This is my first line.\n",
      "This is my second line.\n",
      "This is my Third line\n",
      " \n",
      "This is Fourth line \n",
      " \n",
      " \n",
      " This appended line \n",
      ".4 Hello maam,\n",
      " .5 this python programming session.\n",
      " \n",
      " \n",
      "6 Need more practices \n",
      " 4 Hello maam,\n",
      " .5 this python programming session.\n",
      " \n",
      " \n",
      "6 Need more practices \n",
      " 4 Hello maam,\n",
      " .5 this python programming session.\n",
      " \n",
      " \n",
      "6 Need more practices \n",
      " 4 Hello maam,\n",
      " .5 this python programming session.\n",
      " \n",
      " \n",
      "6 Need more practices \n",
      " 4 Hello maam,\n",
      " .5 this python programming session.\n",
      " \n",
      " \n",
      "6 Need more practices \n",
      " 4 Hello maam,\n",
      " .5 this python programming session.\n",
      " \n",
      " \n",
      "6 Need more practices \n",
      " 4 Hello maam,\n",
      " .5 this python programming session.\n",
      " \n",
      " \n",
      "6 Need more practices \n",
      " 4 Hello maam,\n",
      " .5 this python programming session.\n",
      " \n",
      " \n",
      "6 Need more practices \n",
      " 4 Hello maam,\n",
      " .5 this python programming session.\n",
      " \n",
      " \n",
      "6 Need more practices \n",
      " 4 Hello maam,\n",
      " .5 this python programming session.\n",
      " \n",
      " \n",
      "6 Need more practices \n",
      " 4 Hello maam,\n",
      " .5 this python programming session.\n",
      " \n",
      " \n",
      "6 Need more practices \n",
      " 4 Hello maam,\n",
      " .5 this python programming session.\n",
      " \n",
      " \n",
      "6 Need more practices \n",
      " 4 Hello maam,\n",
      " .5 this python programming session.\n",
      " \n",
      " \n",
      "6 Need more practices \n",
      " 4 Hello maam,\n",
      " .5 this python programming session.\n",
      " \n",
      " \n",
      "6 Need more practices \n",
      " \n"
     ]
    }
   ],
   "source": [
    "f=open\n",
    "try: \n",
    "    f=open('b104.txt')\n",
    "except:\n",
    "    FileNotFoundError  \n",
    "    print('Fild does not exist')\n",
    "else: \n",
    "\tprint(f.read())\n",
    "finally:\n",
    "\tf.close()\n"
   ]
  },
  {
   "cell_type": "code",
   "execution_count": null,
   "id": "2f20d60c-4396-4a02-9b06-07b0710c5548",
   "metadata": {},
   "outputs": [],
   "source": [
    "Q. No.20\n",
    "Consider the code\n",
    "\ta=10\n",
    "\tb=20\n",
    "\tc=30\n",
    "\tresult=a+b+c\n",
    "What is the result?"
   ]
  },
  {
   "cell_type": "code",
   "execution_count": 166,
   "id": "d6571aaf-963c-4df9-9d89-f2232c46110e",
   "metadata": {},
   "outputs": [
    {
     "name": "stdout",
     "output_type": "stream",
     "text": [
      "60\n"
     ]
    }
   ],
   "source": [
    "a=10\n",
    "b=20\n",
    "c=30\n",
    "result=a+b+c\n",
    "print(result)"
   ]
  },
  {
   "cell_type": "raw",
   "id": "0228684b-d4c5-4474-8d1b-f20de52a2cd3",
   "metadata": {},
   "source": [
    "## Q. No.21\n",
    "Consider the code:\n",
    "\tprices=[30.5,’40.5’,10.5]\n",
    "\ttotal=0\n",
    "\tfor price in prices:\n",
    "\t\ttotal += price\n",
    "\tprint(total)\n",
    "\n",
    "\twhile executing this code we are getting the following erro\n",
    "\n",
    "\tTraceback (most recent call last):\n",
    "\t    File “test.py”, line 4, in <module>\n",
    "\t\tTotal += price \n",
    "\tTypeError: unsupported operand type(s) for +=: ‘float’ and ‘str’\n",
    "Which of the following code should be used to fix this error?\n",
    "Ans: total += float(price)"
   ]
  },
  {
   "cell_type": "code",
   "execution_count": 9,
   "id": "5eb83007-3b05-4299-ba25-1bec80e924f5",
   "metadata": {},
   "outputs": [
    {
     "name": "stdout",
     "output_type": "stream",
     "text": [
      "30.5\n",
      "71.0\n",
      "81.5\n"
     ]
    }
   ],
   "source": [
    "prices=[30.5,'40.5',10.5]\n",
    "total=0\n",
    "for price in prices:\n",
    "    total += float(price)\n",
    "    print(total)"
   ]
  },
  {
   "cell_type": "code",
   "execution_count": null,
   "id": "f1f27620-7a2b-4d86-9ca6-7f2995f14e34",
   "metadata": {},
   "outputs": [],
   "source": [
    "# Q. No.22\n",
    "Consider the code:\n",
    "\tprices=[10,’20’,30,’40’]\n",
    "\ttotal=0\n",
    "\tfor price in prices:\n",
    "\t\ttotal +=price\n",
    "\tprint(total)\n",
    "\twhile executing this code we are getting the following error\n",
    "\t\n",
    "\tTraceback (most recent call last):\n",
    "\t    File ‘cost.py’, line 4, in <module>\n",
    "\t\tTotal +=price\n",
    "\tTypeError: unsupported operand type(s) for +=: ‘int’ and ‘str’ total += str(price)\n",
    "By using which of the following code segments we can fix this problem( Choose Two)?\n",
    "ans: total +=int(price) and total +=float(price)"
   ]
  },
  {
   "cell_type": "code",
   "execution_count": 19,
   "id": "d51e9a4d-231a-4798-8e10-6df373bec93a",
   "metadata": {},
   "outputs": [
    {
     "name": "stdout",
     "output_type": "stream",
     "text": [
      "100.0\n"
     ]
    }
   ],
   "source": [
    "prices=[10,'20',30,'40']\n",
    "total=0\n",
    "for price in prices:\n",
    "    total +=float(price)\n",
    "print(total)\n"
   ]
  },
  {
   "cell_type": "code",
   "execution_count": null,
   "id": "2d54dd41-ba17-45ad-ac7e-b88e850e193b",
   "metadata": {},
   "outputs": [],
   "source": [
    "#\n",
    "Q. No.23\n",
    "Consider the code\n",
    "\tcourses={ 1 : ‘Java’,2:’Scala’,3:’Python’}\n",
    "\tfor i in range(1,5):\n",
    "\t\tprint(courses[i])\n",
    "\n",
    "While executing this code we are getting the following error\n",
    "Traceback (most recent call last):\n",
    " File “test.py”, line 3, in <module>\n",
    "\t        print(courses[i])\n",
    "           KeyError:4\n",
    "By using which of the following code segments we can fix this problem?\n",
    "ans: add line in for loop ... if i in courses:"
   ]
  },
  {
   "cell_type": "code",
   "execution_count": 35,
   "id": "b3891143-89b7-41e2-83b7-034136c4aca3",
   "metadata": {},
   "outputs": [
    {
     "name": "stdout",
     "output_type": "stream",
     "text": [
      "Java\n",
      "Scala\n",
      "Python\n"
     ]
    }
   ],
   "source": [
    "courses={1 :'Java',2:'Scala',3:'Python'}\n",
    "for i in range(1,5):\n",
    "    if i in courses:\n",
    "        print(courses[i])"
   ]
  },
  {
   "cell_type": "code",
   "execution_count": null,
   "id": "136fba27-39a7-4479-b36f-7d0de056dc53",
   "metadata": {},
   "outputs": [],
   "source": [
    "#Q. No.24\n",
    "Consider the code\n",
    "\tdef area(b,w):\n",
    "\t\treturn B*w\n",
    "\tprint(area(10,20))\n",
    "What is the result?\n"
   ]
  },
  {
   "cell_type": "code",
   "execution_count": 3,
   "id": "dec74dd8-1c20-4a9e-be95-b0f90b4c93ec",
   "metadata": {},
   "outputs": [
    {
     "name": "stdout",
     "output_type": "stream",
     "text": [
      "200\n"
     ]
    }
   ],
   "source": [
    "def area(b,w):\n",
    "    return b*w\n",
    "print(area(10,20))"
   ]
  },
  {
   "cell_type": "code",
   "execution_count": null,
   "id": "2681ca51-2f2c-40c8-b86c-7319a8ee56c8",
   "metadata": {},
   "outputs": [],
   "source": [
    "#Q. No.25\n",
    "Consider the following code:\n",
    "\tdef get_score(total=0,valid=0):\n",
    "\t\tresult=int(valid)/int(total)\n",
    "\t\treturn result\n",
    "\n",
    "For which of the function calls we will get Error?\n",
    "ans:score=get_score(0,10)"
   ]
  },
  {
   "cell_type": "code",
   "execution_count": 1,
   "id": "0775b0f7-3c7a-4426-98e2-481461880c7f",
   "metadata": {},
   "outputs": [],
   "source": [
    "def get_score(total=0,valid=0):\n",
    "    result= int(valid)/int(total)\n",
    "    return result"
   ]
  },
  {
   "cell_type": "code",
   "execution_count": null,
   "id": "959aa314-e6fb-466d-8dd1-733ac4cfc439",
   "metadata": {},
   "outputs": [],
   "source": [
    "#Q. No.26 Consider the code:\n",
    "\tdata=[]\n",
    "\tdef get_data():\n",
    "\t\tfor i in range(1,5)\n",
    "\t\t\tmarks=input(‘Enter Marks:’)\n",
    "\t\t\tdata.append(marks)\n",
    "\n",
    "\tdef get_avg():\n",
    "\t\tsum=0\n",
    "\t\tfor mark in data:\n",
    "\t\t\tsum += mark\n",
    "\t\treturn sum / len(data)\n",
    "\tget_data()\n",
    "\tprint(get_avg())\n",
    "\n",
    "For the input: 10,20,30,40, what is the result?\n",
    "ans:25.0"
   ]
  },
  {
   "cell_type": "code",
   "execution_count": 25,
   "id": "7aa4c308-d389-42ca-8d2e-9c284556a5cd",
   "metadata": {},
   "outputs": [
    {
     "name": "stdin",
     "output_type": "stream",
     "text": [
      "Enter Marks: 10\n",
      "Enter Marks: 20\n",
      "Enter Marks: 30\n",
      "Enter Marks: 40\n"
     ]
    },
    {
     "name": "stdout",
     "output_type": "stream",
     "text": [
      "25.0\n"
     ]
    }
   ],
   "source": [
    "data=[]\n",
    "def get_data():\n",
    "    for i in range(1,5):\n",
    "    \tmarks=input('Enter Marks:')\n",
    "    \tdata.append(int(marks))\n",
    "def get_avg():\n",
    "    sum=0\n",
    "    for mark in data:\n",
    "        sum += mark\n",
    "    return sum / len(data)\n",
    "get_data()\n",
    "print(get_avg())\n"
   ]
  },
  {
   "cell_type": "code",
   "execution_count": null,
   "id": "9ef96f47-5794-46e1-b04d-ced2415d162e",
   "metadata": {},
   "outputs": [],
   "source": [
    "#Q. No.27\n",
    "Consider the code:\n",
    "\ta=18\n",
    "\tb=0\n",
    "\ttry :\n",
    "\t\tprint(a / b)\n",
    "Which of the following except block print the name of exception which is raised, i.e \n",
    "Exception class name?"
   ]
  },
  {
   "cell_type": "code",
   "execution_count": 35,
   "id": "169cf025-c85d-459a-8932-e45fa5bf5ffc",
   "metadata": {},
   "outputs": [
    {
     "name": "stdout",
     "output_type": "stream",
     "text": [
      "Exception error\n"
     ]
    }
   ],
   "source": [
    "a=18\n",
    "b=0\n",
    "try :\n",
    "\tprint(a / b)\n",
    "except ZeroDivisionError as e:\n",
    "    print('Exception error')\n",
    "\n",
    "\n"
   ]
  },
  {
   "cell_type": "code",
   "execution_count": null,
   "id": "b1c4520e-0380-46f5-9e00-749f662ee62a",
   "metadata": {},
   "outputs": [],
   "source": [
    "##Q. No.28\n",
    "Which of the following is valid way of creating our own custom exception?\n",
    "ans:class MyException(Exception):\n",
    "        pass \n"
   ]
  },
  {
   "cell_type": "code",
   "execution_count": null,
   "id": "1fe2cfa1-ddec-44e8-af40-ffa760058491",
   "metadata": {},
   "outputs": [],
   "source": [
    "##Q. No.29\n",
    "Consider the following python code: \n",
    "1. Weight=62.4\n",
    "2. Zoo=‘80098’ \n",
    "3. Value=+23e4\n",
    "The types of weight zip and value variable respectively:"
   ]
  },
  {
   "cell_type": "code",
   "execution_count": 39,
   "id": "459d436c-b85a-4aa9-af36-01cd3db3c638",
   "metadata": {},
   "outputs": [
    {
     "data": {
      "text/plain": [
       "float"
      ]
     },
     "execution_count": 39,
     "metadata": {},
     "output_type": "execute_result"
    }
   ],
   "source": [
    "Weight=62.4\n",
    "type(Weight)"
   ]
  },
  {
   "cell_type": "code",
   "execution_count": 43,
   "id": "4f45c212-1da9-46b7-ab03-f733f036737d",
   "metadata": {},
   "outputs": [
    {
     "data": {
      "text/plain": [
       "str"
      ]
     },
     "execution_count": 43,
     "metadata": {},
     "output_type": "execute_result"
    }
   ],
   "source": [
    "Zoo='80098' \n",
    "type(Zoo)"
   ]
  },
  {
   "cell_type": "code",
   "execution_count": 45,
   "id": "950a41a6-47f0-46b5-b95b-a1fa3cf4f74d",
   "metadata": {},
   "outputs": [
    {
     "data": {
      "text/plain": [
       "float"
      ]
     },
     "execution_count": 45,
     "metadata": {},
     "output_type": "execute_result"
    }
   ],
   "source": [
    "Value=+23e4\n",
    "type(Value)"
   ]
  },
  {
   "cell_type": "code",
   "execution_count": null,
   "id": "130d9fa9-8e41-4263-a8d9-a8d9ad61a5ec",
   "metadata": {},
   "outputs": [],
   "source": [
    "#Q. No.30\n",
    "You are writing a python program. You required to handle data types properly.\n",
    "Consider the code segment:\n",
    "a=10+20\n",
    "b=‘10’+’20’\n",
    "c=‘10’*3\n",
    "Identify the types of a,b and c? \n",
    "ans:int,str,str"
   ]
  },
  {
   "cell_type": "code",
   "execution_count": 47,
   "id": "ac2ab35c-9353-4cc2-ba49-0976bab72601",
   "metadata": {},
   "outputs": [],
   "source": [
    "a=10+20\n",
    "b='10'+'20'\n",
    "c='10'*3"
   ]
  },
  {
   "cell_type": "code",
   "execution_count": 53,
   "id": "6cef058e-3b16-4a93-b537-fca9629c7a87",
   "metadata": {},
   "outputs": [
    {
     "data": {
      "text/plain": [
       "str"
      ]
     },
     "execution_count": 53,
     "metadata": {},
     "output_type": "execute_result"
    }
   ],
   "source": [
    "type(a)\n",
    "type(b)\n",
    "type(c)"
   ]
  },
  {
   "cell_type": "code",
   "execution_count": null,
   "id": "834e64cd-81ab-4284-ab67-5aa90a96ac71",
   "metadata": {},
   "outputs": [],
   "source": [
    "##Q. No.31\n",
    "1. a= bool([False])\n",
    "2. b= bool(3)\n",
    "3. c= bool(“”)\n",
    "4. d= bool(‘ ’)\n",
    "Which of the variables will be represent False?\n",
    "ans c and d"
   ]
  },
  {
   "cell_type": "code",
   "execution_count": 55,
   "id": "56909a55-db45-4f25-ad7b-9e398c5de05d",
   "metadata": {},
   "outputs": [],
   "source": [
    "a= bool([False])\n",
    "b= bool(3)\n",
    "c= bool(\"\")\n",
    "d= bool('')"
   ]
  },
  {
   "cell_type": "code",
   "execution_count": 67,
   "id": "03588f04-69bd-4f13-b803-c4733ca5c9c4",
   "metadata": {},
   "outputs": [
    {
     "data": {
      "text/plain": [
       "False"
      ]
     },
     "execution_count": 67,
     "metadata": {},
     "output_type": "execute_result"
    }
   ],
   "source": [
    "c"
   ]
  },
  {
   "cell_type": "code",
   "execution_count": 69,
   "id": "faa70e85-fee0-4091-935c-de09bd8c2f57",
   "metadata": {},
   "outputs": [
    {
     "data": {
      "text/plain": [
       "False"
      ]
     },
     "execution_count": 69,
     "metadata": {},
     "output_type": "execute_result"
    }
   ],
   "source": [
    "d"
   ]
  },
  {
   "cell_type": "code",
   "execution_count": null,
   "id": "80bdbad8-b6df-4c13-a2c9-273b2d1ab107",
   "metadata": {},
   "outputs": [],
   "source": [
    "#Consider the following expression \n",
    "Result= (2*(3+4) **2-(3**3)*3)\n",
    "What is result value?"
   ]
  },
  {
   "cell_type": "code",
   "execution_count": 71,
   "id": "ab34aa88-2389-431a-b9d3-47ecafae47d0",
   "metadata": {},
   "outputs": [],
   "source": [
    "Result= (2*(3+4) **2-(3**3)*3)"
   ]
  },
  {
   "cell_type": "code",
   "execution_count": 75,
   "id": "ecdf07ae-66bc-42ec-bab5-87e3b6f36516",
   "metadata": {},
   "outputs": [
    {
     "data": {
      "text/plain": [
       "17"
      ]
     },
     "execution_count": 75,
     "metadata": {},
     "output_type": "execute_result"
    }
   ],
   "source": [
    "Result"
   ]
  },
  {
   "cell_type": "code",
   "execution_count": null,
   "id": "e2fa9562-f5b2-401f-9524-0944bd3f1144",
   "metadata": {},
   "outputs": [],
   "source": [
    "##Q. No.33\n",
    "Consider the code\n",
    "a=2\n",
    "a += 1\n",
    "# line-1\n",
    "To make a value as 9, which expression required to place at line-1"
   ]
  },
  {
   "cell_type": "code",
   "execution_count": 103,
   "id": "c151b4fa-5691-4d69-8d85-1fdd9e774170",
   "metadata": {},
   "outputs": [
    {
     "data": {
      "text/plain": [
       "9"
      ]
     },
     "execution_count": 103,
     "metadata": {},
     "output_type": "execute_result"
    }
   ],
   "source": [
    "a=3\n",
    "a**=2\n",
    "a"
   ]
  },
  {
   "cell_type": "code",
   "execution_count": null,
   "id": "9c51ddbd-1c4e-4362-bc2f-c036122c1a6c",
   "metadata": {},
   "outputs": [],
   "source": [
    "#Q. No.34\n",
    "You are developing a python application for your company.\n",
    "A list named employees contains 500 employees names, the last 3 begins company\n",
    "Management. Which of the following represents only management employees.\n",
    "ans:employess[-3:] and employees[497:]"
   ]
  },
  {
   "cell_type": "code",
   "execution_count": null,
   "id": "6cd57e3a-5895-473f-a3d0-012d3ef12ad1",
   "metadata": {},
   "outputs": [],
   "source": [
    "#Q. No. 35\n",
    "Consider the code:\n",
    "\ts=’Python is easy’\n",
    "\ts1=s[-7:]\n",
    "\ts2=s[-4:]\n",
    "\tprint(s1+s2)\n",
    "what is the result?"
   ]
  },
  {
   "cell_type": "code",
   "execution_count": 117,
   "id": "8f1a563e-af85-48bf-b4bd-6a6549d4eba0",
   "metadata": {},
   "outputs": [
    {
     "name": "stdout",
     "output_type": "stream",
     "text": [
      "is easy\n",
      "easy\n",
      "is easyeasy\n"
     ]
    }
   ],
   "source": [
    "s=\"Python is easy\"\n",
    "s1=s[-7:]\n",
    "s2=s[-4:]\n",
    "print(s1)\n",
    "print(s2)\n",
    "print(s1+s2)"
   ]
  },
  {
   "cell_type": "code",
   "execution_count": null,
   "id": "375218a9-7428-4fba-b2db-a89dea0849cc",
   "metadata": {},
   "outputs": [],
   "source": [
    "##\n",
    "Q. No. 36\n",
    "We are developing a shopping application. Consider the code?\n",
    "\td=input(‘Enter day of the week’)\n",
    "\tdiscount_percentage=3\n",
    "\tif d==’Monday’:\n",
    "\t\tdiscount_percentage+=5\n",
    "\telif d==’Tuesday’:\n",
    "\t\tdiscount_percentage+=7\n",
    "\telif d==’Saturday’:\n",
    "\t\tdiscount_percentage+=10\n",
    "\telif d==’Sunday’:\n",
    "\t\tdiscount_percentage+=20\n",
    "\telse:\n",
    "discount_percentage+=2\n",
    "\n",
    "To get 5 as discount_percentage,which of the following input should be provided by the end user?"
   ]
  },
  {
   "cell_type": "code",
   "execution_count": 143,
   "id": "fc1af66d-5660-4b19-900a-0ea0dcfac962",
   "metadata": {},
   "outputs": [
    {
     "name": "stdin",
     "output_type": "stream",
     "text": [
      "Enter day of the week no week day\n"
     ]
    },
    {
     "name": "stdout",
     "output_type": "stream",
     "text": [
      "5\n"
     ]
    }
   ],
   "source": [
    "d=input(\"Enter day of the week\")\n",
    "discount_percentage=3\n",
    "if d=='Monday':\n",
    "    discount_percentage+=5\n",
    "    print(discount_percentage)\n",
    "elif d=='Tuesday':\n",
    "    discount_percentage+=7\n",
    "    print(discount_percentage)\n",
    "elif d=='Saturday':\n",
    "    discount_percentage+=10\n",
    "    print(discount_percentage)\n",
    "elif d=='Sunday':\n",
    "    discount_percentage+=20\n",
    "    print(discount_percentage)\n",
    "else:\n",
    "    discount_percentage+=2\n",
    "    print(discount_percentage)"
   ]
  },
  {
   "cell_type": "code",
   "execution_count": null,
   "id": "1c258ef2-519f-4103-8a47-54dee03b057f",
   "metadata": {},
   "outputs": [],
   "source": [
    "#Q. No. 36\n",
    "Consider the Python Code:\n",
    "\ta=[‘a’,’b’,’c’,’d’]\n",
    "\tfor i in a:\n",
    "\t     a.append(i.upper())\n",
    "\tprint(a)\n",
    "What is the result?\n",
    "ans:Memory error throen at runtime"
   ]
  },
  {
   "cell_type": "code",
   "execution_count": null,
   "id": "949de766-2b6e-4cdb-89b9-e98043e0fa3f",
   "metadata": {},
   "outputs": [
    {
     "name": "stderr",
     "output_type": "stream",
     "text": [
      "IOPub data rate exceeded.\n",
      "The Jupyter server will temporarily stop sending output\n",
      "to the client in order to avoid crashing it.\n",
      "To change this limit, set the config variable\n",
      "`--ServerApp.iopub_data_rate_limit`.\n",
      "\n",
      "Current values:\n",
      "ServerApp.iopub_data_rate_limit=1000000.0 (bytes/sec)\n",
      "ServerApp.rate_limit_window=3.0 (secs)\n",
      "\n"
     ]
    }
   ],
   "source": [
    "a=['a','b','c','d']\n",
    "for i in a:\n",
    "    a.append(i.upper())\n",
    "    print(a)"
   ]
  },
  {
   "cell_type": "code",
   "execution_count": 27,
   "id": "32ccec76-47b2-4aac-9244-40b4e7b5b81a",
   "metadata": {},
   "outputs": [
    {
     "data": {
      "text/plain": [
       "2"
      ]
     },
     "execution_count": 27,
     "metadata": {},
     "output_type": "execute_result"
    }
   ],
   "source": [
    "#Q. No. 37 Consider the code:\n",
    "A=float('123.456')\n",
    "#Which expression evaluates to 2?\n",
    "bool(A)+True"
   ]
  },
  {
   "cell_type": "code",
   "execution_count": 29,
   "id": "08402a5d-2337-4ae7-92ab-1795a2e80956",
   "metadata": {},
   "outputs": [],
   "source": [
    "##To write ‘Python Certification’ to b104.txt file, which of the following is valid code?\n",
    "f=open('b104.txt','w')\n",
    "f.write('Python Certificaton')\n",
    "f.close()"
   ]
  },
  {
   "cell_type": "code",
   "execution_count": null,
   "id": "451b9ab9-e7bd-4697-98eb-ea5b32002118",
   "metadata": {},
   "outputs": [],
   "source": []
  },
  {
   "cell_type": "code",
   "execution_count": 31,
   "id": "ebcb6edd-0ad0-46b7-93bf-bca2db542241",
   "metadata": {},
   "outputs": [
    {
     "ename": "ValueError",
     "evalue": "I/O operation on closed file.",
     "output_type": "error",
     "traceback": [
      "\u001b[1;31m---------------------------------------------------------------------------\u001b[0m",
      "\u001b[1;31mValueError\u001b[0m                                Traceback (most recent call last)",
      "Cell \u001b[1;32mIn[31], line 1\u001b[0m\n\u001b[1;32m----> 1\u001b[0m f\u001b[38;5;241m.\u001b[39mseek(\u001b[38;5;241m0\u001b[39m)\n",
      "\u001b[1;31mValueError\u001b[0m: I/O operation on closed file."
     ]
    }
   ],
   "source": [
    "####\n",
    "Q. No.39\n",
    "Conside the file abc.txt:\n",
    "\tDelhi:10\n",
    "\tRavi:20\n",
    "\tShiva:30\n",
    "\tPavan:40\n",
    "\n",
    "Consider the python code which is present in the same location of the file \n",
    "Test.py:\n",
    "\tValues=0\n",
    "\ttry:\n",
    "\t\tf=open(‘abc.txt’, ‘r’)\n",
    "\t\tcontent=f.readlines()\n",
    "\t\tfor line in content:\n",
    "\t\t\tvalues+float(line.split(‘:’)[1])\n",
    "\t\tf.close()\n",
    "\texcept Exception:\n",
    "\t\tprint(‘Unable to open the file’)\n",
    "\tprint(values)\n",
    "What is the result?\n",
    "###Not abole to understand this Qustion###"
   ]
  },
  {
   "cell_type": "code",
   "execution_count": 45,
   "id": "cad304aa-0191-4afa-a632-847194c8c73c",
   "metadata": {},
   "outputs": [
    {
     "data": {
      "text/plain": [
       "8"
      ]
     },
     "execution_count": 45,
     "metadata": {},
     "output_type": "execute_result"
    }
   ],
   "source": [
    "f=open(\"abc.txt\",'w')\n",
    "f.write(\"Delhi:10 \\n\")\n",
    "f.write(\"Ravi:20 \\n\")\n",
    "f.write(\"Shiva:30 \\n\")\n",
    "f.write(\"Pavan:40\")"
   ]
  },
  {
   "cell_type": "code",
   "execution_count": 82,
   "id": "6fc6d3ad-d894-410b-bb96-217783f99fad",
   "metadata": {},
   "outputs": [
    {
     "name": "stdout",
     "output_type": "stream",
     "text": [
      "100.0\n"
     ]
    }
   ],
   "source": [
    "values=0\n",
    "try:\n",
    "    f=open('abc.txt', 'r')\n",
    "    content=f.readlines()\n",
    "    for line in content :\n",
    "    \tvalues+=float(line.split(':')[1])\n",
    "    f.close()\n",
    "except Exception:\n",
    "\tprint('Unable to open the file')\n",
    "print(values)"
   ]
  },
  {
   "cell_type": "code",
   "execution_count": null,
   "id": "0f2e69b5-ba77-4ad3-871d-67e9b7425f2e",
   "metadata": {},
   "outputs": [],
   "source": [
    "##Q. No.40\n",
    "Consider the code:\n",
    "\tImport sys\n",
    "\ttry:\n",
    "\t\tfile_in=open(‘in.txt’, ‘r’)\n",
    "\t\tfile_out=open(‘out.txt’,’w+’)\n",
    "\texcept IOError:\n",
    "\t\tprint(‘Cannot open’, file_name)\n",
    "\telse:\n",
    "\t\ti=1\n",
    "\t\tfor line in file_in:\n",
    "\t\t\tprint(line.rstrip())\n",
    "\t\t\tfile_out.write(str(i)+”:”+line)\n",
    "\t\t\ti=i+1\n",
    "\t\tfile_in.close()\n",
    "\t\tfile_out.close()\n",
    "\n",
    "Assume that in.txt file is available but out.txt file does not exist.\n",
    "Which of the following is true about this code?"
   ]
  },
  {
   "cell_type": "code",
   "execution_count": 125,
   "id": "329de852-e112-4af7-b8bd-09aee262e9ef",
   "metadata": {},
   "outputs": [
    {
     "name": "stdout",
     "output_type": "stream",
     "text": [
      "Delhi:10\n",
      "Ravi:20\n",
      "Shiva:30\n",
      "Pavan:40\n"
     ]
    }
   ],
   "source": [
    "import sys\n",
    "try:\n",
    "    file_in=open('abc.txt','r')\n",
    "    file_out=open('abc_copy.txt','w')\n",
    "except IOError:\n",
    "    print('Cannot open', file_name)\n",
    "else:\n",
    "    i=1\n",
    "    for line in file_in:\n",
    "        print(line.rstrip())\n",
    "        file_out.write(str(i)+\":\"+line)\n",
    "        i=i+1      \n",
    "    file_in.close()\n",
    "    file_out.close()\n"
   ]
  },
  {
   "cell_type": "code",
   "execution_count": null,
   "id": "77d3540d-64c6-4d31-bd75-0d88adae8110",
   "metadata": {},
   "outputs": [],
   "source": []
  },
  {
   "cell_type": "code",
   "execution_count": null,
   "id": "2095154f-a66c-4d95-941b-fe68216adee0",
   "metadata": {},
   "outputs": [],
   "source": []
  }
 ],
 "metadata": {
  "kernelspec": {
   "display_name": "Python 3 (ipykernel)",
   "language": "python",
   "name": "python3"
  },
  "language_info": {
   "codemirror_mode": {
    "name": "ipython",
    "version": 3
   },
   "file_extension": ".py",
   "mimetype": "text/x-python",
   "name": "python",
   "nbconvert_exporter": "python",
   "pygments_lexer": "ipython3",
   "version": "3.12.7"
  }
 },
 "nbformat": 4,
 "nbformat_minor": 5
}
