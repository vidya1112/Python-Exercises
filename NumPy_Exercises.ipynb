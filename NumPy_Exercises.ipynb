{
 "cells": [
  {
   "cell_type": "code",
   "execution_count": 280,
   "id": "e94baee5-2809-4fde-8df3-c956baff602a",
   "metadata": {},
   "outputs": [],
   "source": [
    "#Import NumPy as np and installation"
   ]
  },
  {
   "cell_type": "code",
   "execution_count": 3,
   "id": "4158592c-2973-40fb-bd4b-a067a8da5da8",
   "metadata": {},
   "outputs": [
    {
     "name": "stdout",
     "output_type": "stream",
     "text": [
      "Requirement already satisfied: numpy in c:\\users\\dnyan\\anaconda3\\lib\\site-packages (1.26.4)\n"
     ]
    }
   ],
   "source": [
    "!pip install numpy"
   ]
  },
  {
   "cell_type": "code",
   "execution_count": 5,
   "id": "e9fc4e36-7e1e-4c9d-a92a-6efcb70bc7e9",
   "metadata": {},
   "outputs": [],
   "source": [
    "import numpy as np"
   ]
  },
  {
   "cell_type": "code",
   "execution_count": 7,
   "id": "e4b15d82-39dd-48d7-9210-0f920a3ee3f5",
   "metadata": {},
   "outputs": [],
   "source": [
    "#Create an array of 10 zeros"
   ]
  },
  {
   "cell_type": "code",
   "execution_count": 19,
   "id": "4a9a7af3-5246-4d0e-a2bb-40e7deca0959",
   "metadata": {},
   "outputs": [
    {
     "data": {
      "text/plain": [
       "array([0., 0., 0., 0., 0., 0., 0., 0., 0., 0.])"
      ]
     },
     "execution_count": 19,
     "metadata": {},
     "output_type": "execute_result"
    }
   ],
   "source": [
    "arr=np.zeros(10)\n",
    "arr"
   ]
  },
  {
   "cell_type": "code",
   "execution_count": 13,
   "id": "4fcded12-0f9e-4c6a-b7c7-656fedce305c",
   "metadata": {},
   "outputs": [],
   "source": [
    "#Create an array of 10 ones."
   ]
  },
  {
   "cell_type": "code",
   "execution_count": 15,
   "id": "668812c6-37d6-4923-a5ae-b15ee2fd41ce",
   "metadata": {},
   "outputs": [
    {
     "data": {
      "text/plain": [
       "array([1., 1., 1., 1., 1., 1., 1., 1., 1., 1.])"
      ]
     },
     "execution_count": 15,
     "metadata": {},
     "output_type": "execute_result"
    }
   ],
   "source": [
    "arr=np.ones(10)\n",
    "arr"
   ]
  },
  {
   "cell_type": "code",
   "execution_count": 21,
   "id": "6e542e7e-01d5-4b3c-b798-4cb1efe540cc",
   "metadata": {},
   "outputs": [],
   "source": [
    "#Create an array of 10 fives."
   ]
  },
  {
   "cell_type": "code",
   "execution_count": 31,
   "id": "820fc2a8-509c-40e0-9f46-afec75384dae",
   "metadata": {},
   "outputs": [
    {
     "data": {
      "text/plain": [
       "array([5., 5., 5., 5., 5., 5., 5., 5., 5., 5.])"
      ]
     },
     "execution_count": 31,
     "metadata": {},
     "output_type": "execute_result"
    }
   ],
   "source": [
    "arr=np.zeros(10)+5\n",
    "arr"
   ]
  },
  {
   "cell_type": "code",
   "execution_count": 33,
   "id": "a6b6514b-be84-44a5-be9c-324dc87bf3a3",
   "metadata": {},
   "outputs": [
    {
     "data": {
      "text/plain": [
       "array([5, 5, 5, 5, 5, 5, 5, 5, 5, 5])"
      ]
     },
     "execution_count": 33,
     "metadata": {},
     "output_type": "execute_result"
    }
   ],
   "source": [
    "arr=np.zeros(10,dtype=int)+5\n",
    "arr"
   ]
  },
  {
   "cell_type": "code",
   "execution_count": 35,
   "id": "0ec6fd6a-1704-430a-9357-d97630aea378",
   "metadata": {},
   "outputs": [],
   "source": [
    "#Create an array of the integers from 10 to 50"
   ]
  },
  {
   "cell_type": "code",
   "execution_count": 41,
   "id": "24e0a612-dce3-4b58-a56d-e5d23f8e9b6c",
   "metadata": {},
   "outputs": [
    {
     "data": {
      "text/plain": [
       "array([10, 11, 12, 13, 14, 15, 16, 17, 18, 19, 20, 21, 22, 23, 24, 25, 26,\n",
       "       27, 28, 29, 30, 31, 32, 33, 34, 35, 36, 37, 38, 39, 40, 41, 42, 43,\n",
       "       44, 45, 46, 47, 48, 49, 50])"
      ]
     },
     "execution_count": 41,
     "metadata": {},
     "output_type": "execute_result"
    }
   ],
   "source": [
    "arr=np.arange(10,51)\n",
    "arr"
   ]
  },
  {
   "cell_type": "code",
   "execution_count": 43,
   "id": "ab37dd4a-b4af-4b52-a303-3b919357a2ba",
   "metadata": {},
   "outputs": [],
   "source": [
    "#Create an array of all the even integers from 10 to 50."
   ]
  },
  {
   "cell_type": "code",
   "execution_count": 45,
   "id": "89d1806e-353b-42f3-b2fa-7cd06dd05add",
   "metadata": {},
   "outputs": [
    {
     "data": {
      "text/plain": [
       "array([10, 12, 14, 16, 18, 20, 22, 24, 26, 28, 30, 32, 34, 36, 38, 40, 42,\n",
       "       44, 46, 48, 50])"
      ]
     },
     "execution_count": 45,
     "metadata": {},
     "output_type": "execute_result"
    }
   ],
   "source": [
    "arr=np.arange(10,51,2)\n",
    "arr"
   ]
  },
  {
   "cell_type": "code",
   "execution_count": 47,
   "id": "05abfe95-7bf8-4290-a0e1-0961f2f758e5",
   "metadata": {},
   "outputs": [],
   "source": [
    "#Create a 3x3 matrix with values ranging from 0 to 8.\n",
    "# not possiable to create 3x3 matrix using values range(0,8)"
   ]
  },
  {
   "cell_type": "code",
   "execution_count": 82,
   "id": "0a420f50-101f-4135-af11-e27cfb6d0820",
   "metadata": {},
   "outputs": [],
   "source": [
    "mat=np.arange(0,9)"
   ]
  },
  {
   "cell_type": "code",
   "execution_count": 84,
   "id": "39a3932c-9162-49c4-adfb-6e5e30d11b27",
   "metadata": {},
   "outputs": [
    {
     "data": {
      "text/plain": [
       "(9,)"
      ]
     },
     "execution_count": 84,
     "metadata": {},
     "output_type": "execute_result"
    }
   ],
   "source": [
    "mat.shape"
   ]
  },
  {
   "cell_type": "code",
   "execution_count": 86,
   "id": "8bf9dab6-60fd-462d-963a-f88025ec9c67",
   "metadata": {},
   "outputs": [
    {
     "data": {
      "text/plain": [
       "array([[0, 1, 2],\n",
       "       [3, 4, 5],\n",
       "       [6, 7, 8]])"
      ]
     },
     "execution_count": 86,
     "metadata": {},
     "output_type": "execute_result"
    }
   ],
   "source": [
    "mat.reshape(3,3)"
   ]
  },
  {
   "cell_type": "code",
   "execution_count": 88,
   "id": "a6fde578-7c16-4ffd-82f4-af9745896e54",
   "metadata": {},
   "outputs": [],
   "source": [
    "#Create a 3x3 identity matrix."
   ]
  },
  {
   "cell_type": "code",
   "execution_count": 110,
   "id": "1ec862d1-42e9-4483-aa6d-70742c66a882",
   "metadata": {},
   "outputs": [
    {
     "data": {
      "text/plain": [
       "array([[1, 0, 0],\n",
       "       [0, 1, 0],\n",
       "       [0, 0, 1]])"
      ]
     },
     "execution_count": 110,
     "metadata": {},
     "output_type": "execute_result"
    }
   ],
   "source": [
    "I=np.eye(3,dtype=int)\n",
    "I"
   ]
  },
  {
   "cell_type": "code",
   "execution_count": 112,
   "id": "7e1cc521-83b5-4b40-b75d-b494fd6f5a4b",
   "metadata": {},
   "outputs": [],
   "source": [
    "## OR"
   ]
  },
  {
   "cell_type": "code",
   "execution_count": 116,
   "id": "bf0ab572-93e9-4e29-a749-1703053495a0",
   "metadata": {},
   "outputs": [
    {
     "data": {
      "text/plain": [
       "array([[1, 0, 0],\n",
       "       [0, 1, 0],\n",
       "       [0, 0, 1]])"
      ]
     },
     "execution_count": 116,
     "metadata": {},
     "output_type": "execute_result"
    }
   ],
   "source": [
    "I=np.identity(3,dtype=int)\n",
    "I"
   ]
  },
  {
   "cell_type": "code",
   "execution_count": null,
   "id": "bb6d9a1f-da3f-4198-8de9-fd2b910fe3a8",
   "metadata": {},
   "outputs": [],
   "source": [
    "##Use NumPy to generate a random number between 0 and 1.\n",
    "## we can create array using 1 and 1 instedof 0 and 1."
   ]
  },
  {
   "cell_type": "code",
   "execution_count": 146,
   "id": "f82388e6-65f2-4dde-a80a-6deecca741ac",
   "metadata": {},
   "outputs": [
    {
     "data": {
      "text/plain": [
       "array([], shape=(0, 1), dtype=float64)"
      ]
     },
     "execution_count": 146,
     "metadata": {},
     "output_type": "execute_result"
    }
   ],
   "source": [
    "arr=np.random.rand(0,1)\n",
    "arr"
   ]
  },
  {
   "cell_type": "code",
   "execution_count": 176,
   "id": "b2797968-fc5b-439b-8f2a-d216fc486d39",
   "metadata": {},
   "outputs": [
    {
     "data": {
      "text/plain": [
       "array([[0.42835663]])"
      ]
     },
     "execution_count": 176,
     "metadata": {},
     "output_type": "execute_result"
    }
   ],
   "source": [
    "arr=np.random.rand(1,1)\n",
    "arr"
   ]
  },
  {
   "cell_type": "code",
   "execution_count": 178,
   "id": "30739bf5-a93f-496f-809b-9018f206f654",
   "metadata": {},
   "outputs": [],
   "source": [
    "##Use NumPy to generate an array of 25 random numbers sampled from a standard normal distribution"
   ]
  },
  {
   "cell_type": "code",
   "execution_count": 180,
   "id": "d65f421b-eda3-4bc9-ae24-aa4b183cf379",
   "metadata": {},
   "outputs": [
    {
     "data": {
      "text/plain": [
       "array([-0.27780314, -0.56467189,  0.49745192, -0.79762278,  0.55933157,\n",
       "        0.08379453,  0.39770834,  0.54501905, -0.59640448, -1.08672381,\n",
       "       -0.02568261, -0.11532567, -0.4007001 ,  0.3642129 , -0.66694188,\n",
       "       -0.33114487, -0.03780381,  0.19079019,  0.52480389,  1.08097988,\n",
       "       -1.85288813, -0.93166452,  0.6488488 ,  0.25699758, -1.14259156])"
      ]
     },
     "execution_count": 180,
     "metadata": {},
     "output_type": "execute_result"
    }
   ],
   "source": [
    "arr=np.random.randn(25)\n",
    "arr"
   ]
  },
  {
   "cell_type": "code",
   "execution_count": null,
   "id": "ec8b96c9-1622-44f4-b065-d5e5ff950191",
   "metadata": {},
   "outputs": [],
   "source": [
    "#Create the following matrix:\n",
    "\n",
    "array([[0.01, 0.02, 0.03, 0.04, 0.05, 0.06, 0.07, 0.08, 0.09, 0.1 ],\n",
    "       [0.11, 0.12, 0.13, 0.14, 0.15, 0.16, 0.17, 0.18, 0.19, 0.2 ],\n",
    "       [0.21, 0.22, 0.23, 0.24, 0.25, 0.26, 0.27, 0.28, 0.29, 0.3 ],\n",
    "       [0.31, 0.32, 0.33, 0.34, 0.35, 0.36, 0.37, 0.38, 0.39, 0.4 ],\n",
    "       [0.41, 0.42, 0.43, 0.44, 0.45, 0.46, 0.47, 0.48, 0.49, 0.5 ],\n",
    "       [0.51, 0.52, 0.53, 0.54, 0.55, 0.56, 0.57, 0.58, 0.59, 0.6 ],\n",
    "       [0.61, 0.62, 0.63, 0.64, 0.65, 0.66, 0.67, 0.68, 0.69, 0.7 ],\n",
    "       [0.71, 0.72, 0.73, 0.74, 0.75, 0.76, 0.77, 0.78, 0.79, 0.8 ],\n",
    "       [0.81, 0.82, 0.83, 0.84, 0.85, 0.86, 0.87, 0.88, 0.89, 0.9 ],\n",
    "       [0.91, 0.92, 0.93, 0.94, 0.95, 0.96, 0.97, 0.98, 0.99, 1.  ]])\n",
    "\n",
    "array([[ 0.01,  0.02,  0.03,  0.04,  0.05,  0.06,  0.07,  0.08,  0.09,  0.1 ],\n",
    "       [ 0.11,  0.12,  0.13,  0.14,  0.15,  0.16,  0.17,  0.18,  0.19,  0.2 ],\n",
    "       [ 0.21,  0.22,  0.23,  0.24,  0.25,  0.26,  0.27,  0.28,  0.29,  0.3 ],\n",
    "       [ 0.31,  0.32,  0.33,  0.34,  0.35,  0.36,  0.37,  0.38,  0.39,  0.4 ],\n",
    "       [ 0.41,  0.42,  0.43,  0.44,  0.45,  0.46,  0.47,  0.48,  0.49,  0.5 ],\n",
    "       [ 0.51,  0.52,  0.53,  0.54,  0.55,  0.56,  0.57,  0.58,  0.59,  0.6 ],\n",
    "       [ 0.61,  0.62,  0.63,  0.64,  0.65,  0.66,  0.67,  0.68,  0.69,  0.7 ],\n",
    "       [ 0.71,  0.72,  0.73,  0.74,  0.75,  0.76,  0.77,  0.78,  0.79,  0.8 ],\n",
    "       [ 0.81,  0.82,  0.83,  0.84,  0.85,  0.86,  0.87,  0.88,  0.89,  0.9 ],\n",
    "       [ 0.91,  0.92,  0.93,  0.94,  0.95,  0.96,  0.97,  0.98,  0.99,  1.  ]])"
   ]
  },
  {
   "cell_type": "markdown",
   "id": "a176e507-833b-4c80-959c-cc464348dfcf",
   "metadata": {},
   "source": [
    "# ????????"
   ]
  },
  {
   "cell_type": "code",
   "execution_count": 236,
   "id": "5a3c9f4c-106f-4601-8335-800ddc84e61a",
   "metadata": {},
   "outputs": [],
   "source": [
    "#Create an array of 20 linearly spaced points between 0 and 1:"
   ]
  },
  {
   "cell_type": "code",
   "execution_count": 238,
   "id": "21daa593-984b-4c52-93a8-21262c4879a9",
   "metadata": {},
   "outputs": [
    {
     "data": {
      "text/plain": [
       "array([0.        , 0.05263158, 0.10526316, 0.15789474, 0.21052632,\n",
       "       0.26315789, 0.31578947, 0.36842105, 0.42105263, 0.47368421,\n",
       "       0.52631579, 0.57894737, 0.63157895, 0.68421053, 0.73684211,\n",
       "       0.78947368, 0.84210526, 0.89473684, 0.94736842, 1.        ])"
      ]
     },
     "execution_count": 238,
     "metadata": {},
     "output_type": "execute_result"
    }
   ],
   "source": [
    "arr=np.linspace(0,1,20)\n",
    "arr"
   ]
  },
  {
   "cell_type": "code",
   "execution_count": 240,
   "id": "9101e733-a2c0-489f-92ad-e5b180e96989",
   "metadata": {},
   "outputs": [],
   "source": [
    "#Numpy Indexing and Selection\n",
    "#Now you will be given a few matrices, and be asked to replicate the resulting matrix outputs:"
   ]
  },
  {
   "cell_type": "code",
   "execution_count": 248,
   "id": "9828b050-113d-441f-8a37-bd003df42ad9",
   "metadata": {},
   "outputs": [
    {
     "data": {
      "text/plain": [
       "array([[ 1,  2,  3,  4,  5],\n",
       "       [ 6,  7,  8,  9, 10],\n",
       "       [11, 12, 13, 14, 15],\n",
       "       [16, 17, 18, 19, 20],\n",
       "       [21, 22, 23, 24, 25]])"
      ]
     },
     "execution_count": 248,
     "metadata": {},
     "output_type": "execute_result"
    }
   ],
   "source": [
    "arr=np.arange(1,26).reshape(5,5)\n",
    "arr"
   ]
  },
  {
   "cell_type": "code",
   "execution_count": null,
   "id": "14ea2644-3378-451f-a254-6477216eb229",
   "metadata": {},
   "outputs": [],
   "source": [
    "# # WRITE CODE HERE THAT REPRODUCES THE OUTPUT OF THE CELL BELOW\n",
    "# BE CAREFUL NOT TO RUN THE CELL BELOW, OTHERWISE YOU WON'T\n",
    "# BE ABLE TO SEE THE OUTPUT ANY MORE\n",
    "array([[12, 13, 14, 15],\n",
    "       [17, 18, 19, 20],\n",
    "       [22, 23, 24, 25]])"
   ]
  },
  {
   "cell_type": "code",
   "execution_count": 250,
   "id": "b736299a-87ef-426a-bf77-c0aa4b56f7dc",
   "metadata": {},
   "outputs": [
    {
     "data": {
      "text/plain": [
       "array([[12, 13, 14, 15],\n",
       "       [17, 18, 19, 20],\n",
       "       [22, 23, 24, 25]])"
      ]
     },
     "execution_count": 250,
     "metadata": {},
     "output_type": "execute_result"
    }
   ],
   "source": [
    "arr[2:,1:]"
   ]
  },
  {
   "cell_type": "code",
   "execution_count": 252,
   "id": "982b3877-a622-4611-97b7-7c6f82e08b85",
   "metadata": {},
   "outputs": [
    {
     "data": {
      "text/plain": [
       "array([[12, 13, 14, 15],\n",
       "       [17, 18, 19, 20],\n",
       "       [22, 23, 24, 25]])"
      ]
     },
     "execution_count": 252,
     "metadata": {},
     "output_type": "execute_result"
    }
   ],
   "source": [
    "# OR\n",
    "arr[2:5,1:5]"
   ]
  },
  {
   "cell_type": "code",
   "execution_count": 254,
   "id": "37de68be-db7b-475a-8584-5d6d8093cd4a",
   "metadata": {},
   "outputs": [],
   "source": [
    "# find 20"
   ]
  },
  {
   "cell_type": "code",
   "execution_count": 256,
   "id": "c1c8a4b2-4569-434c-b393-22628201219d",
   "metadata": {},
   "outputs": [
    {
     "data": {
      "text/plain": [
       "20"
      ]
     },
     "execution_count": 256,
     "metadata": {},
     "output_type": "execute_result"
    }
   ],
   "source": [
    "arr[3,4]"
   ]
  },
  {
   "cell_type": "code",
   "execution_count": 258,
   "id": "240c744b-d5a5-43f7-8e6e-e46d38ee0125",
   "metadata": {},
   "outputs": [
    {
     "data": {
      "text/plain": [
       "array([[ 2],\n",
       "       [ 7],\n",
       "       [12]])"
      ]
     },
     "execution_count": 258,
     "metadata": {},
     "output_type": "execute_result"
    }
   ],
   "source": [
    "arr[0:3,1:2]"
   ]
  },
  {
   "cell_type": "code",
   "execution_count": 264,
   "id": "0bf1dc88-b22f-4e9b-b84a-749055e2606e",
   "metadata": {},
   "outputs": [
    {
     "data": {
      "text/plain": [
       "array([[21, 22, 23, 24, 25]])"
      ]
     },
     "execution_count": 264,
     "metadata": {},
     "output_type": "execute_result"
    }
   ],
   "source": [
    "arr[4,0:]\n",
    "# OR\n",
    "arr[4:,0:5]"
   ]
  },
  {
   "cell_type": "code",
   "execution_count": 282,
   "id": "0f7989b9-d2c6-4b4e-90f8-c006438ea93e",
   "metadata": {},
   "outputs": [
    {
     "data": {
      "text/plain": [
       "array([[16, 17, 18, 19, 20],\n",
       "       [21, 22, 23, 24, 25]])"
      ]
     },
     "execution_count": 282,
     "metadata": {},
     "output_type": "execute_result"
    }
   ],
   "source": [
    "arr[3:,0:]\n",
    "# OR \n",
    "arr[3:5,0:5]"
   ]
  },
  {
   "cell_type": "code",
   "execution_count": null,
   "id": "3297c6e3-3a5e-4c8f-ba37-b67f6041a059",
   "metadata": {},
   "outputs": [],
   "source": [
    "#Get the sum of all the values in mat\n",
    "array([[ 1,  2,  3,  4,  5],\n",
    "       [ 6,  7,  8,  9, 10],\n",
    "       [11, 12, 13, 14, 15],\n",
    "       [16, 17, 18, 19, 20],\n",
    "       [21, 22, 23, 24, 25]])"
   ]
  },
  {
   "cell_type": "code",
   "execution_count": 322,
   "id": "294ee1e6-2b87-41c4-a9c7-ffe0187cdbd9",
   "metadata": {},
   "outputs": [
    {
     "data": {
      "text/plain": [
       "325"
      ]
     },
     "execution_count": 322,
     "metadata": {},
     "output_type": "execute_result"
    }
   ],
   "source": [
    "np.sum(arr)\n",
    "# OR\n",
    "arr.sum()\n"
   ]
  },
  {
   "cell_type": "code",
   "execution_count": 333,
   "id": "a9e1f606-9eb1-4f0e-9a59-971cc46ba260",
   "metadata": {},
   "outputs": [],
   "source": [
    "#Get the standard deviation of the values in mat.\n",
    "#7.2111025509279782"
   ]
  },
  {
   "cell_type": "markdown",
   "id": "09d0922a-bfeb-46f2-b02b-5497ae7e980e",
   "metadata": {},
   "source": [
    "###????????????"
   ]
  },
  {
   "cell_type": "code",
   "execution_count": 284,
   "id": "91aaae33-3010-46ef-9df9-c45f11f1ec8a",
   "metadata": {},
   "outputs": [],
   "source": [
    "#Get the sum of all the columns in mat."
   ]
  },
  {
   "cell_type": "code",
   "execution_count": 326,
   "id": "7872d498-cdc9-41da-a997-6380e3c996ab",
   "metadata": {},
   "outputs": [
    {
     "data": {
      "text/plain": [
       "array([55, 60, 65, 70, 75])"
      ]
     },
     "execution_count": 326,
     "metadata": {},
     "output_type": "execute_result"
    }
   ],
   "source": [
    "np.sum(arr,axis=0)"
   ]
  },
  {
   "cell_type": "code",
   "execution_count": 290,
   "id": "2f0df3a3-b421-4b6b-bb6b-5035ea1003e8",
   "metadata": {},
   "outputs": [],
   "source": [
    "# to get 15"
   ]
  },
  {
   "cell_type": "code",
   "execution_count": 298,
   "id": "ff9ce9b0-02b3-4b1d-9567-9bfd3e6b66df",
   "metadata": {},
   "outputs": [
    {
     "data": {
      "text/plain": [
       "15"
      ]
     },
     "execution_count": 298,
     "metadata": {},
     "output_type": "execute_result"
    }
   ],
   "source": [
    "arr[2,4]"
   ]
  },
  {
   "cell_type": "code",
   "execution_count": 318,
   "id": "91ac62cc-8431-4572-9d36-d89c87929f4b",
   "metadata": {},
   "outputs": [
    {
     "data": {
      "text/plain": [
       "array([16, 20])"
      ]
     },
     "execution_count": 318,
     "metadata": {},
     "output_type": "execute_result"
    }
   ],
   "source": [
    "arr[[3,3],[0,4]]"
   ]
  },
  {
   "cell_type": "code",
   "execution_count": null,
   "id": "ccdbf90c-5062-4eff-a559-a21076192511",
   "metadata": {},
   "outputs": [],
   "source": []
  }
 ],
 "metadata": {
  "kernelspec": {
   "display_name": "Python 3 (ipykernel)",
   "language": "python",
   "name": "python3"
  },
  "language_info": {
   "codemirror_mode": {
    "name": "ipython",
    "version": 3
   },
   "file_extension": ".py",
   "mimetype": "text/x-python",
   "name": "python",
   "nbconvert_exporter": "python",
   "pygments_lexer": "ipython3",
   "version": "3.12.7"
  }
 },
 "nbformat": 4,
 "nbformat_minor": 5
}
